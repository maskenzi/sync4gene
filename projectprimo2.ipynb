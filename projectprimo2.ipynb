{
 "cells": [
  {
   "cell_type": "code",
   "execution_count": null,
   "metadata": {
    "scrolled": true
   },
   "outputs": [],
   "source": [
    "import math, time\n",
    "i= .2 \n",
    "while i <10:\n",
    "    print (i)\n",
    "    i=i+2\n",
    "    "
   ]
  },
  {
   "cell_type": "code",
   "execution_count": null,
   "metadata": {
    "scrolled": true
   },
   "outputs": [],
   "source": [
    "print('Hello World')"
   ]
  },
  {
   "cell_type": "code",
   "execution_count": null,
   "metadata": {},
   "outputs": [],
   "source": [
    "#Just for singline comments"
   ]
  },
  {
   "cell_type": "code",
   "execution_count": null,
   "metadata": {},
   "outputs": [],
   "source": [
    "a=3\n",
    "b=5\n",
    "c=(a)/(b)\n",
    "i=len(\"How long is this now, can you tell me\")\n",
    "y=\"This is a string segment\"\n",
    "o=\"{1}is it tru{1} and if not then {2}\" .format(\"Zavier\",\"honey\",\"bela\")\n",
    "l=input(\"Enter the value of l:\")\n",
    "while c<=5:\n",
    "    print (c)\n",
    "    c=c+2\n",
    "    input_string_var=input(\"Enter data here: \")\n",
    "    #The above statement is to enter data. Also called console data entry\n",
    "    print (7%3)\n",
    "    print (\"Hello\"+\"World\")\n",
    "    print (i)\n",
    "    print (o)\n",
    "    print (l*5)"
   ]
  },
  {
   "cell_type": "code",
   "execution_count": null,
   "metadata": {},
   "outputs": [],
   "source": [
    "li=[1,2,3,4]\n",
    "li.append(9)\n",
    "print (li)"
   ]
  },
  {
   "cell_type": "code",
   "execution_count": null,
   "metadata": {},
   "outputs": [
    {
     "name": "stdout",
     "output_type": "stream",
     "text": [
      "Ask the magic 8 ball a question: (press enter to quit) gsa\n",
      "It is certain\n",
      "Ask the magic 8 ball a question: (press enter to quit) gs\n",
      "It is certain\n",
      "Ask the magic 8 ball a question: (press enter to quit) gs\n",
      "My reply is no\n",
      "Ask the magic 8 ball a question: (press enter to quit) ere\n",
      "It is certain\n",
      "Ask the magic 8 ball a question: (press enter to quit) jadlgjka;\n",
      "Concentrate and ask again\n",
      "Ask the magic 8 ball a question: (press enter to quit) gadgahah\n",
      "Concentrate and ask again\n",
      "Ask the magic 8 ball a question: (press enter to quit) hha\n",
      "Outlook good\n",
      "Ask the magic 8 ball a question: (press enter to quit) eadg\n",
      "My sources say no\n"
     ]
    }
   ],
   "source": [
    "# Import the modules\n",
    "import sys\n",
    "import random\n",
    "ans = True\n",
    "while ans:\n",
    "    question = input(\"Ask the magic 8 ball a question: (press enter to quit) \")\n",
    "    \n",
    "    answers = random.randint(1,8)\n",
    "    \n",
    "    if question == \"\":\n",
    "        sys.exit()\n",
    "    \n",
    "    elif answers == 1:\n",
    "        print (\"It is certain\")\n",
    "    \n",
    "    elif answers == 2:\n",
    "        print (\"Outlook good\")\n",
    "    \n",
    "    elif answers == 3:\n",
    "        print (\"You may rely on it\")\n",
    "    \n",
    "    elif answers == 4:\n",
    "        print (\"Ask again later\")\n",
    "    \n",
    "    elif answers == 5:\n",
    "        print (\"Concentrate and ask again\")\n",
    "    \n",
    "    elif answers == 6:\n",
    "        print (\"Reply hazy, try again\")\n",
    "    \n",
    "    elif answers == 7:\n",
    "        print (\"My reply is no\")\n",
    "    \n",
    "    elif answers == 8:\n",
    "        print (\"My sources say no\")"
   ]
  },
  {
   "cell_type": "code",
   "execution_count": null,
   "metadata": {},
   "outputs": [],
   "source": [
    "Question = input(\"Enter here\")\n",
    "if Question == \"2\":\n",
    "    print(\"wow\")\n",
    "#    elif answer == 2:\n",
    " #   print (\"lame\")"
   ]
  },
  {
   "cell_type": "markdown",
   "metadata": {},
   "source": [
    "## "
   ]
  },
  {
   "cell_type": "code",
   "execution_count": null,
   "metadata": {},
   "outputs": [],
   "source": []
  },
  {
   "cell_type": "code",
   "execution_count": null,
   "metadata": {},
   "outputs": [],
   "source": []
  },
  {
   "cell_type": "code",
   "execution_count": null,
   "metadata": {},
   "outputs": [],
   "source": []
  }
 ],
 "metadata": {
  "kernelspec": {
   "display_name": "Python 3",
   "language": "python",
   "name": "python3"
  }
 },
 "nbformat": 4,
 "nbformat_minor": 2
}
