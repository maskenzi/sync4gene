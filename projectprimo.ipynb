{
 "cells": [
  {
   "cell_type": "code",
   "execution_count": 1,
   "metadata": {
    "scrolled": true
   },
   "outputs": [
    {
     "name": "stdout",
     "output_type": "stream",
     "text": [
      "4\n",
      "6\n",
      "8\n"
     ]
    }
   ],
   "source": [
    "import math, time\n",
    "i= 4 \n",
    "while i <10:\n",
    "    print (i)\n",
    "    i=i+2"
   ]
  },
  {
   "cell_type": "code",
   "execution_count": 2,
   "metadata": {
    "scrolled": true
   },
   "outputs": [
    {
     "name": "stdout",
     "output_type": "stream",
     "text": [
      "Hello World\n"
     ]
    }
   ],
   "source": [
    "print('Hello World')"
   ]
  },
  {
   "cell_type": "code",
   "execution_count": 3,
   "metadata": {},
   "outputs": [],
   "source": [
    "#Just for singline comments"
   ]
  },
  {
   "cell_type": "code",
   "execution_count": 4,
   "metadata": {},
   "outputs": [
    {
     "name": "stdout",
     "output_type": "stream",
     "text": [
      "Enter the value of l:0\n",
      "0.6\n",
      "Enter data here: \n",
      "1\n",
      "HelloWorld\n",
      "37\n",
      "honeyis it truhoney and if not then bela\n",
      "00000\n",
      "2.6\n",
      "Enter data here: \n",
      "1\n",
      "HelloWorld\n",
      "37\n",
      "honeyis it truhoney and if not then bela\n",
      "00000\n",
      "4.6\n",
      "Enter data here: 90\n",
      "1\n",
      "HelloWorld\n",
      "37\n",
      "honeyis it truhoney and if not then bela\n",
      "00000\n"
     ]
    }
   ],
   "source": [
    "a=3\n",
    "b=5\n",
    "c=(a)/(b)\n",
    "i=len(\"How long is this now, can you tell me\")\n",
    "y=\"This is a string segment\"\n",
    "o=\"{1}is it tru{1} and if not then {2}\" .format(\"Zavier\",\"honey\",\"bela\")\n",
    "l=input(\"Enter the value of l:\")\n",
    "while c<=5:\n",
    "    print (c)\n",
    "    c=c+2\n",
    "    input_string_var=input(\"Enter data here: \")\n",
    "    #The above statement is to enter data. Also called console data entry\n",
    "    print (7%3)\n",
    "    print (\"Hello\"+\"World\")\n",
    "    print (i)\n",
    "    print (o)\n",
    "    print (l*5)"
   ]
  },
  {
   "cell_type": "code",
   "execution_count": 5,
   "metadata": {},
   "outputs": [
    {
     "name": "stdout",
     "output_type": "stream",
     "text": [
      "[1, 2, 3, 4, 9]\n"
     ]
    }
   ],
   "source": [
    "li=[1,2,3,4]\n",
    "li.append(9)\n",
    "print (li)"
   ]
  },
  {
   "cell_type": "code",
   "execution_count": null,
   "metadata": {},
   "outputs": [],
   "source": []
  }
 ],
 "metadata": {
  "kernelspec": {
   "display_name": "Python 3",
   "language": "python",
   "name": "python3"
  },
  "language_info": {
   "codemirror_mode": {
    "name": "ipython",
    "version": 3
   },
   "file_extension": ".py",
   "mimetype": "text/x-python",
   "name": "python",
   "nbconvert_exporter": "python",
   "pygments_lexer": "ipython3",
   "version": "3.6.4"
  }
 },
 "nbformat": 4,
 "nbformat_minor": 2
}
